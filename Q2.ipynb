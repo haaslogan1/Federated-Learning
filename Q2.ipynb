{
  "nbformat": 4,
  "nbformat_minor": 0,
  "metadata": {
    "colab": {
      "name": "Q2.ipynb",
      "provenance": [],
      "collapsed_sections": [],
      "include_colab_link": true
    },
    "kernelspec": {
      "name": "python3",
      "display_name": "Python 3"
    },
    "language_info": {
      "name": "python"
    }
  },
  "cells": [
    {
      "cell_type": "markdown",
      "metadata": {
        "id": "view-in-github",
        "colab_type": "text"
      },
      "source": [
        "<a href=\"https://colab.research.google.com/github/haaslogan1/Federated-Learning/blob/main/Q2.ipynb\" target=\"_parent\"><img src=\"https://colab.research.google.com/assets/colab-badge.svg\" alt=\"Open In Colab\"/></a>"
      ]
    },
    {
      "cell_type": "code",
      "execution_count": 7,
      "metadata": {
        "colab": {
          "base_uri": "https://localhost:8080/"
        },
        "id": "slOdId6rzNaH",
        "outputId": "1523b422-5d63-4756-e72c-c1b89e9c1ea2"
      },
      "outputs": [
        {
          "output_type": "stream",
          "name": "stdout",
          "text": [
            "Requirement already satisfied: h5py in /usr/local/lib/python3.7/dist-packages (3.1.0)\n",
            "Requirement already satisfied: numpy>=1.14.5 in /usr/local/lib/python3.7/dist-packages (from h5py) (1.21.5)\n",
            "Requirement already satisfied: cached-property in /usr/local/lib/python3.7/dist-packages (from h5py) (1.5.2)\n",
            "Requirement already satisfied: typing-extensions in /usr/local/lib/python3.7/dist-packages (3.10.0.2)\n",
            "Requirement already satisfied: wheel in /usr/local/lib/python3.7/dist-packages (0.37.1)\n"
          ]
        }
      ],
      "source": [
        "!pip install h5py\n",
        "!pip install typing-extensions\n",
        "!pip install wheel\n",
        "!pip install --quiet --upgrade tensorflow-federated\n",
        "!pip install --quiet --upgrade nest-asyncio\n",
        "\n",
        "import nest_asyncio\n",
        "nest_asyncio.apply()\n",
        "import collections\n",
        "import numpy as np\n",
        "import tensorflow as tf\n",
        "import tensorflow_federated as tff"
      ]
    },
    {
      "cell_type": "code",
      "source": [
        "SEED = 200230801  #TODO: set seed to stuent ID number\n",
        "np.random.seed(200230801) #TODO: random number generator seed set to stuent ID number"
      ],
      "metadata": {
        "id": "Q8mPsnL5zS1H"
      },
      "execution_count": 8,
      "outputs": []
    },
    {
      "cell_type": "code",
      "source": [
        "# preprocess the input data \n",
        "def preprocess(dataset, epoch):\n",
        "  def batch_format_fn(element):\n",
        "    \"\"\"Flatten a batch `pixels` and return the features as an `OrderedDict`.\"\"\"\n",
        "    return collections.OrderedDict(\n",
        "        x=tf.reshape(element['pixels'], [-1, 784]),\n",
        "        y=tf.reshape(element['label'], [-1, 1]))\n",
        "\n",
        "  return dataset.repeat(epoch).shuffle(100, seed=SEED).batch(\n",
        "      20).map(batch_format_fn).prefetch(10)\n",
        "\n",
        "# combine data from multiple clients\n",
        "def make_federated_data(client_data, client_ids, epoch):\n",
        "  return [\n",
        "      preprocess(client_data.create_tf_dataset_for_client(x), epoch)\n",
        "      for x in client_ids\n",
        "  ]"
      ],
      "metadata": {
        "id": "m03_8F9izTT2"
      },
      "execution_count": 2,
      "outputs": []
    },
    {
      "cell_type": "code",
      "source": [
        "# download the MNIST data \n",
        "emnist_train, emnist_test = tff.simulation.datasets.emnist.load_data()\n",
        "print (\"Total number of clients: \",len(emnist_train.client_ids))"
      ],
      "metadata": {
        "colab": {
          "base_uri": "https://localhost:8080/"
        },
        "id": "FQBx7Z70zXYw",
        "outputId": "08405acc-a32f-4260-aac7-a55728e9678e"
      },
      "execution_count": 3,
      "outputs": [
        {
          "output_type": "stream",
          "name": "stderr",
          "text": [
            "Downloading emnist_all.sqlite.lzma: 100%|██████████| 170507172/170507172 [00:43<00:00, 3967718.46it/s]\n"
          ]
        },
        {
          "output_type": "stream",
          "name": "stdout",
          "text": [
            "Total number of clients:  3383\n"
          ]
        }
      ]
    },
    {
      "cell_type": "code",
      "source": [
        "# determine the sample data input data structure for ML model \n",
        "example_dataset = emnist_train.create_tf_dataset_for_client(emnist_train.client_ids[0])\n",
        "preprocessed_example_dataset = preprocess(example_dataset, 0)\n",
        "\n",
        "# Neural network model\n",
        "def create_keras_model():\n",
        "  return tf.keras.models.Sequential([\n",
        "      tf.keras.layers.InputLayer(input_shape=(784,)),\n",
        "      tf.keras.layers.Dense(10, kernel_initializer='zeros'),\n",
        "      tf.keras.layers.Softmax(),\n",
        "  ])\n",
        "  \n",
        "def model_fn():\n",
        "  # We _must_ create a new model here, and _not_ capture it from an external\n",
        "  # scope. TFF will call this within different graph contexts.\n",
        "  keras_model = create_keras_model()\n",
        "  return tff.learning.from_keras_model(\n",
        "      keras_model,\n",
        "      input_spec=preprocessed_example_dataset.element_spec,\n",
        "      loss=tf.keras.losses.SparseCategoricalCrossentropy(),\n",
        "      metrics=[tf.keras.metrics.SparseCategoricalAccuracy()])"
      ],
      "metadata": {
        "id": "nbM9xB28zck_"
      },
      "execution_count": 9,
      "outputs": []
    },
    {
      "cell_type": "code",
      "source": [
        "NUM_CLIENTS = 5 #TODO: change number of clients as needed\n",
        "NUM_EPOCHS = 5 #TODO: change the number of training epoch for local training by each client\n",
        "\n",
        "## TODO: you need to iteratively change NUM_CLIENTS for part 'a'\n",
        "## TODO: you need to iteratively change NUM_EPOCHS for part 'b'\n",
        "\n",
        "its = [5, 50, 100]\n",
        "\n",
        "for it in its:\n",
        "\n",
        "  NUM_CLIENTS = it\n",
        "\n",
        "  print('There are ' + str(NUM_CLIENTS) + ' clients')\n",
        "  print('There are ' + str(NUM_EPOCHS) + ' clients')\n",
        "\n",
        "  sample_clients = np.random.choice(emnist_train.client_ids, NUM_CLIENTS)\n",
        "  print (\"Client IDs selected: \", sample_clients)\n",
        "\n",
        "  # conside data from only the selected clients\n",
        "  federated_train_data = make_federated_data(emnist_train, sample_clients, NUM_EPOCHS)\n",
        "  print(f'Number of client datasets considered: {len(sample_clients)}')\n",
        "\n",
        "  # Initialize the iterative training object with the right learning parameter\n",
        "  iterative_process = tff.learning.build_federated_averaging_process(\n",
        "    model_fn,\n",
        "    client_optimizer_fn=lambda: tf.keras.optimizers.SGD(learning_rate=0.01),\n",
        "    server_optimizer_fn=lambda: tf.keras.optimizers.SGD(learning_rate=1.0))\n",
        "\n",
        "  # initialize the parameters of the ML model (you need to initialize this each time you change the client number or epoch numer)\n",
        "  state = iterative_process.initialize()\n",
        "\n",
        "  # total number of server and client interactions\n",
        "  NUM_ROUNDS = 11\n",
        "  for round_num in range(1, NUM_ROUNDS):\n",
        "    state, metrics = iterative_process.next(state, federated_train_data)\n",
        "    print('round {:2d}, training accuracy= {}%'.format(round_num, metrics['train']['sparse_categorical_accuracy']*100))\n",
        "\n",
        "  # evalute the latest converged model \n",
        "  evaluation = tff.learning.build_federated_evaluation(model_fn)\n",
        "  federated_test_data = make_federated_data(emnist_test, sample_clients, 5)\n",
        "  test_metrics = evaluation(state.model, federated_test_data)\n",
        "  print('Test Accuracy: {}%'.format(str(test_metrics['eval']['sparse_categorical_accuracy']*100)))\n",
        "\n",
        "for it in its:\n",
        "\n",
        "  NUM_EPOCHS = it\n",
        "\n",
        "  print('There are ' + str(NUM_CLIENTS) + ' clients')\n",
        "  print('There are ' + str(NUM_EPOCHS) + ' clients')\n",
        "\n",
        "  sample_clients = np.random.choice(emnist_train.client_ids, NUM_CLIENTS)\n",
        "  print (\"Client IDs selected: \", sample_clients)\n",
        "\n",
        "  # conside data from only the selected clients\n",
        "  federated_train_data = make_federated_data(emnist_train, sample_clients, NUM_EPOCHS)\n",
        "  print(f'Number of client datasets considered: {len(sample_clients)}')\n",
        "\n",
        "  # Initialize the iterative training object with the right learning parameter\n",
        "  iterative_process = tff.learning.build_federated_averaging_process(\n",
        "    model_fn,\n",
        "    client_optimizer_fn=lambda: tf.keras.optimizers.SGD(learning_rate=0.01),\n",
        "    server_optimizer_fn=lambda: tf.keras.optimizers.SGD(learning_rate=1.0))\n",
        "\n",
        "  # initialize the parameters of the ML model (you need to initialize this each time you change the client number or epoch numer)\n",
        "  state = iterative_process.initialize()\n",
        "\n",
        "  # total number of server and client interactions\n",
        "  NUM_ROUNDS = 11\n",
        "  for round_num in range(1, NUM_ROUNDS):\n",
        "    state, metrics = iterative_process.next(state, federated_train_data)\n",
        "    print('round {:2d}, training accuracy= {}%'.format(round_num, metrics['train']['sparse_categorical_accuracy']*100))\n",
        "\n",
        "  # evalute the latest converged model \n",
        "  evaluation = tff.learning.build_federated_evaluation(model_fn)\n",
        "  federated_test_data = make_federated_data(emnist_test, sample_clients, 5)\n",
        "  test_metrics = evaluation(state.model, federated_test_data)\n",
        "  print('Test Accuracy: {}%'.format(str(test_metrics['eval']['sparse_categorical_accuracy']*100)))"
      ],
      "metadata": {
        "colab": {
          "base_uri": "https://localhost:8080/"
        },
        "id": "jkcJGifXzhVZ",
        "outputId": "861e6631-56c0-497c-8236-f6a359ed7021"
      },
      "execution_count": null,
      "outputs": [
        {
          "output_type": "stream",
          "name": "stdout",
          "text": [
            "There are 5 clients\n",
            "There are 5 clients\n",
            "Client IDs selected:  ['f0981_17' 'f3185_38' 'f0787_21' 'f2410_85' 'f1660_07']\n",
            "Number of client datasets considered: 5\n",
            "round  1, training accuracy= 13.252031803131104%\n",
            "round  2, training accuracy= 13.29268366098404%\n",
            "round  3, training accuracy= 15.365853905677795%\n",
            "round  4, training accuracy= 20.650406181812286%\n",
            "round  5, training accuracy= 21.422764658927917%\n",
            "round  6, training accuracy= 27.398374676704407%\n",
            "round  7, training accuracy= 27.560976147651672%\n",
            "round  8, training accuracy= 31.747967004776%\n",
            "round  9, training accuracy= 36.544716358184814%\n",
            "round 10, training accuracy= 35.650405287742615%\n",
            "Test Accuracy: 55.17241358757019%\n",
            "There are 50 clients\n",
            "There are 5 clients\n",
            "Client IDs selected:  ['f4055_44' 'f0593_46' 'f2304_67' 'f1960_26' 'f1857_48' 'f2076_31'\n",
            " 'f1302_15' 'f4001_45' 'f3572_03' 'f0771_13' 'f3620_07' 'f1376_43'\n",
            " 'f0918_47' 'f0779_27' 'f3928_39' 'f1735_22' 'f4070_43' 'f1678_19'\n",
            " 'f2289_62' 'f3909_46' 'f4034_28' 'f3549_47' 'f1007_22' 'f3138_46'\n",
            " 'f3871_42' 'f3650_20' 'f2315_59' 'f3624_44' 'f3650_20' 'f0523_42'\n",
            " 'f3657_40' 'f3479_08' 'f3554_18' 'f2351_74' 'f3446_10' 'f3101_07'\n",
            " 'f2159_53' 'f0359_05' 'f1908_49' 'f2406_72' 'f2071_28' 'f2030_28'\n",
            " 'f2525_62' 'f0671_18' 'f1713_02' 'f0973_47' 'f1119_27' 'f4046_46'\n",
            " 'f0699_19' 'f0848_42']\n",
            "Number of client datasets considered: 50\n",
            "round  1, training accuracy= 12.29773461818695%\n",
            "round  2, training accuracy= 13.923472166061401%\n",
            "round  3, training accuracy= 15.507328510284424%\n",
            "round  4, training accuracy= 18.412335216999054%\n",
            "round  5, training accuracy= 21.640966832637787%\n",
            "round  6, training accuracy= 23.662668466567993%\n",
            "round  7, training accuracy= 27.283456921577454%\n",
            "round  8, training accuracy= 30.013325810432434%\n",
            "round  9, training accuracy= 32.15305507183075%\n",
            "round 10, training accuracy= 34.601181745529175%\n",
            "Test Accuracy: 64.35483694076538%\n",
            "There are 100 clients\n",
            "There are 5 clients\n",
            "Client IDs selected:  ['f1342_17' 'f4025_17' 'f3706_37' 'f2443_80' 'f1408_02' 'f3507_42'\n",
            " 'f3534_47' 'f0224_06' 'f0940_45' 'f3988_14' 'f0171_26' 'f3988_14'\n",
            " 'f3161_02' 'f1658_04' 'f3416_28' 'f0686_09' 'f2086_25' 'f2162_62'\n",
            " 'f0803_40' 'f2572_63' 'f3104_25' 'f3803_39' 'f2152_98' 'f0865_24'\n",
            " 'f3166_12' 'f1953_17' 'f0594_00' 'f1165_30' 'f3431_32' 'f3981_38'\n",
            " 'f3430_38' 'f3748_29' 'f3979_36' 'f1961_34' 'f1386_19' 'f0763_30'\n",
            " 'f0405_20' 'f0075_46' 'f3465_24' 'f3921_41' 'f1952_17' 'f0347_04'\n",
            " 'f1893_26' 'f2128_52' 'f0571_24' 'f2583_71' 'f4009_27' 'f2172_67'\n",
            " 'f4024_12' 'f1219_26' 'f2057_23' 'f0172_40' 'f0270_23' 'f2403_71'\n",
            " 'f0767_25' 'f3309_37' 'f2093_26' 'f1118_23' 'f2580_69' 'f0865_24'\n",
            " 'f1092_01' 'f1039_40' 'f2172_67' 'f3429_41' 'f0624_32' 'f3636_24'\n",
            " 'f0677_30' 'f3581_23' 'f1381_00' 'f1252_21' 'f1658_04' 'f3796_14'\n",
            " 'f1502_33' 'f1566_38' 'f1249_33' 'f3976_36' 'f0840_37' 'f3414_29'\n",
            " 'f2360_75' 'f0421_33' 'f1693_00' 'f3597_18' 'f1038_35' 'f1493_36'\n",
            " 'f0585_26' 'f3250_14' 'f3960_19' 'f3108_34' 'f0557_33' 'f2547_96'\n",
            " 'f4097_41' 'f0410_43' 'f1410_19' 'f1753_34' 'f3582_25' 'f3241_49'\n",
            " 'f2061_12' 'f3991_38' 'f1443_09' 'f0692_03']\n",
            "Number of client datasets considered: 100\n",
            "round  1, training accuracy= 12.714411318302155%\n",
            "round  2, training accuracy= 13.72629851102829%\n",
            "round  3, training accuracy= 15.514294803142548%\n",
            "round  4, training accuracy= 19.06867027282715%\n",
            "round  5, training accuracy= 21.432361006736755%\n",
            "round  6, training accuracy= 22.49336838722229%\n",
            "round  7, training accuracy= 25.642991065979004%\n",
            "round  8, training accuracy= 27.73553431034088%\n",
            "round  9, training accuracy= 30.885156989097595%\n",
            "round 10, training accuracy= 31.783083081245422%\n"
          ]
        }
      ]
    }
  ]
}